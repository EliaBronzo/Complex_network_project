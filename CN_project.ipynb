{
 "cells": [
  {
   "cell_type": "code",
   "execution_count": 2,
   "metadata": {},
   "outputs": [],
   "source": [
    "import numpy as np\n",
    "import matplotlib.pyplot as plt\n",
    "import time\n",
    "from igraph import Graph"
   ]
  },
  {
   "cell_type": "code",
   "execution_count": 3,
   "metadata": {},
   "outputs": [],
   "source": [
    "N = 1000\n",
    "pi=0.1"
   ]
  },
  {
   "cell_type": "markdown",
   "metadata": {},
   "source": [
    "# Problem 1: Generate instances of RG"
   ]
  },
  {
   "cell_type": "code",
   "execution_count": 39,
   "metadata": {},
   "outputs": [],
   "source": [
    "def havel_hakimi(sequence):\n",
    "    # per controllare se una sequenza di degree può dare un grafo\n",
    "    # inutile in quanto faccio la sequenza in modo che lo sia\n",
    "    sequence = sorted(sequence, reverse=True)\n",
    "    while sequence:\n",
    "        n = sequence.pop(0)\n",
    "        if n > len(sequence):\n",
    "            return False\n",
    "        \n",
    "        for i in range(n):\n",
    "            sequence[i] -= 1\n",
    "            if sequence[i] < 0:\n",
    "                return False\n",
    "    \n",
    "        sequence = sorted([x for x in sequence if x > 0], reverse=True)\n",
    "    \n",
    "    return True\n",
    "\n",
    "\n",
    "def has_duplicates(arr):\n",
    "\n",
    "    return len(arr) != len(set(arr))\n",
    "\n",
    "\n",
    "def has_loops(arr):\n",
    "    for elm in arr:\n",
    "        if elm[0] == elm[1]:\n",
    "            return True\n",
    "        \n",
    "    return False"
   ]
  },
  {
   "cell_type": "code",
   "execution_count": 36,
   "metadata": {},
   "outputs": [],
   "source": [
    "def sample_pseudo(N,pi):\n",
    "    # sampla pseudo grafi con loops e repeated edges\n",
    "    # distribuzione davvero uniforme\n",
    "    N1 = int((1-pi)*N)\n",
    "    if N1%2!=0:\n",
    "        N1+=1\n",
    "    N4 = N-N1\n",
    "    Ntot = N1+4*N4\n",
    "    d = np.zeros(Ntot,dtype=np.int64)\n",
    "    for i in range(N1):\n",
    "        d[i]=i\n",
    "    for j in range(N1,Ntot):\n",
    "        d[j] = (j-N1)//4+N1\n",
    "    d = np.random.permutation(d)\n",
    "    edgeList = d.reshape((Ntot//2,2))\n",
    "    return edgeList\n",
    "\n",
    "def sample_bias1(N, pi):\n",
    "    # sampla dalla distribuzione biased ma il modo in cui samplo dalla lista è poco ottimale\n",
    "    N1 = int((1 - pi) * N)\n",
    "    if N1 % 2 != 0:\n",
    "        N1 += 1\n",
    "    N4 = N - N1\n",
    "    Ntot = N1 + 4 * N4\n",
    "    M = int(Ntot / 2)\n",
    "    d = np.concatenate((np.ones(N1), 4 * np.ones(N4)))\n",
    "    dhat = d.copy()\n",
    "    edgeList = np.zeros((M, 2))\n",
    "    i = 0\n",
    "    while np.sum(dhat) > 0 and i < M:  \n",
    "        drawn = np.random.choice(N, 2, replace=False, p=dhat / np.sum(dhat))\n",
    "        if drawn[0] != drawn[1] and not np.any(np.all(edgeList[:i] == drawn, axis=1)):\n",
    "            edgeList[i, :] = drawn\n",
    "            i += 1\n",
    "            dhat[drawn[0]] -= 1\n",
    "            dhat[drawn[1]] -= 1\n",
    "\n",
    "    edgeList = edgeList[:i]\n",
    "    return edgeList    \n",
    "\n",
    "def sample_mask_list(N,pi):\n",
    "    # sampla ladist. biased usa aggiorno una mask e appendo una lista\n",
    "    N1 = int((1-pi)*N)\n",
    "    if N1%2!=0:\n",
    "        N1+=1\n",
    "    N4 = N-N1\n",
    "    Ntot = N1+4*N4\n",
    "    d = np.zeros(Ntot,dtype=np.int64)\n",
    "    for i in range(N1):\n",
    "        d[i]=i\n",
    "    for j in range(N1,Ntot):\n",
    "        d[j] = (j-N1)//4+N1\n",
    "    mask = np.ones_like(d)\n",
    "    edgeList=[]\n",
    "    while np.sum(mask)>0:\n",
    "        drawn = tuple(sorted(tuple(np.random.choice(d[mask==1],2,replace=False))))\n",
    "        if drawn[0] != drawn[1] and drawn not in edgeList:\n",
    "            edgeList.append(drawn) \n",
    "            for elm in drawn:\n",
    "                if elm<N1:\n",
    "                    mask[elm]=0\n",
    "                else:\n",
    "                    ip = N1+(elm-N1)*4\n",
    "                    s = np.sum(mask[ip:ip+4])\n",
    "                    mask[ip+4-s] = 0 \n",
    "    return edgeList\n",
    "    \n",
    "def sample_mask_array(N,pi):\n",
    "    # sampla ladist. biased usa aggiorno una mask e modifico un array\n",
    "    N1 = int((1-pi)*N)\n",
    "    if N1%2!=0:\n",
    "        N1+=1\n",
    "    N4 = N-N1\n",
    "    Ntot = N1+4*N4\n",
    "    M = int(Ntot / 2)\n",
    "    d = np.zeros(Ntot,dtype=np.int64)\n",
    "    for i in range(N1):\n",
    "        d[i]=i\n",
    "    for j in range(N1,Ntot):\n",
    "        d[j] = (j-N1)//4+N1\n",
    "    mask = np.ones_like(d)\n",
    "    edgeList = np.zeros((M, 2))\n",
    "    i = 0\n",
    "    while np.sum(mask)>0 and i<M:\n",
    "        drawn = np.random.choice(d[mask==1],2,replace=False)\n",
    "        if drawn[0] != drawn[1] and not np.any(np.all(edgeList[:i] == drawn, axis=1)):\n",
    "            edgeList[i, :] = drawn\n",
    "            i += 1\n",
    "            for elm in drawn:\n",
    "                if elm<N1:\n",
    "                    mask[elm]=0\n",
    "                else:\n",
    "                    ip = N1+(elm-N1)*4\n",
    "                    s = np.sum(mask[ip:ip+4])\n",
    "                    mask[ip+4-s] = 0 \n",
    "    edgeList = edgeList[:i]\n",
    "    return edgeList\n",
    "\n",
    "\n",
    "def sample_igraph(N,pi):\n",
    "    # come comparison, non sampla sempre grafi adeguati\n",
    "    N1 = int((1-pi)*N)\n",
    "    if N1%2!=0:\n",
    "        N1+=1\n",
    "    N4 = N-N1\n",
    "    d = np.concatenate((np.ones(N1,dtype=int), 4 * np.ones(N4,dtype=int))) \n",
    "    #print(f\"the sequence is graphical: {havel_hakimi(d)}\")\n",
    "    g = Graph.Degree_Sequence(d, method=\"simple\") \n",
    "    return g.get_edgelist()\n",
    "\n",
    "\n",
    "def sample_from_pseudo(N,pi):\n",
    "    g = sample_pseudo(N,pi):\n",
    "    "
   ]
  },
  {
   "cell_type": "code",
   "execution_count": 71,
   "metadata": {},
   "outputs": [
    {
     "data": {
      "text/plain": [
       "0.852"
      ]
     },
     "execution_count": 71,
     "metadata": {},
     "output_type": "execute_result"
    }
   ],
   "source": [
    "count=0\n",
    "n=1000\n",
    "for i in range(n):\n",
    "    g=sample_igraph(N,pi+0.2)\n",
    "    if has_duplicates(g) or has_loops(g):\n",
    "        count+=1\n",
    "count/n"
   ]
  },
  {
   "cell_type": "code",
   "execution_count": 51,
   "metadata": {},
   "outputs": [
    {
     "data": {
      "text/plain": [
       "0"
      ]
     },
     "execution_count": 51,
     "metadata": {},
     "output_type": "execute_result"
    }
   ],
   "source": [
    "count=0\n",
    "for i in range(100):\n",
    "    g=sample_mask_list(N,pi)\n",
    "    if has_duplicates(g) or has_loops(g):\n",
    "        count+=1\n",
    "count"
   ]
  },
  {
   "cell_type": "code",
   "execution_count": 37,
   "metadata": {},
   "outputs": [
    {
     "name": "stdout",
     "output_type": "stream",
     "text": [
      "44.3 ms ± 156 µs per loop (mean ± std. dev. of 7 runs, 10 loops each)\n",
      "20.7 ms ± 83.6 µs per loop (mean ± std. dev. of 7 runs, 10 loops each)\n",
      "20.7 ms ± 92.5 µs per loop (mean ± std. dev. of 7 runs, 10 loops each)\n",
      "25.6 ms ± 77.7 µs per loop (mean ± std. dev. of 7 runs, 10 loops each)\n",
      "186 µs ± 966 ns per loop (mean ± std. dev. of 7 runs, 10,000 loops each)\n"
     ]
    }
   ],
   "source": [
    "#%timeit sample_pseudo(N,pi)\n",
    "%timeit sample_bias1(N,pi)\n",
    "%timeit sample_mask_list(N,pi)\n",
    "%timeit sample_mask_list(N,pi,\"s\")\n",
    "%timeit sample_mask_array(N,pi)\n",
    "%timeit sample_igraph(N,pi) # seems faster but doesn't seem to generate good graphs"
   ]
  },
  {
   "cell_type": "code",
   "execution_count": 75,
   "metadata": {},
   "outputs": [
    {
     "name": "stdout",
     "output_type": "stream",
     "text": [
      "False\n"
     ]
    }
   ],
   "source": [
    "a = np.arange(200).reshape((100,2))  # Example for a\n",
    "b = np.array([0, 2])    # Example for b, make sure b is shaped appropriately\n",
    "\n",
    "# Method 1: Using np.any() and np.all() together\n",
    "exists = np.any(np.all(a == b, axis=1))\n",
    "\n",
    "print(exists)"
   ]
  }
 ],
 "metadata": {
  "kernelspec": {
   "display_name": "sklearn-env",
   "language": "python",
   "name": "python3"
  },
  "language_info": {
   "codemirror_mode": {
    "name": "ipython",
    "version": 3
   },
   "file_extension": ".py",
   "mimetype": "text/x-python",
   "name": "python",
   "nbconvert_exporter": "python",
   "pygments_lexer": "ipython3",
   "version": "3.12.1"
  }
 },
 "nbformat": 4,
 "nbformat_minor": 2
}
